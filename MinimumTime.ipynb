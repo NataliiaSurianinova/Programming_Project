{
 "cells": [
  {
   "cell_type": "code",
   "execution_count": 1,
   "metadata": {},
   "outputs": [],
   "source": [
    "import numpy as np\n",
    "from matplotlib import pyplot as plt"
   ]
  },
  {
   "cell_type": "code",
   "execution_count": 2,
   "metadata": {},
   "outputs": [
    {
     "data": {
      "image/png": "[encoded data removed]",
      "text/plain": [
       "<Figure size 432x288 with 1 Axes>"
      ]
     },
     "metadata": {
      "needs_background": "light"
     },
     "output_type": "display_data"
    }
   ],
   "source": [
    "np.random.seed(19)\n",
    "L=100\n",
    "C=100\n",
    "maze = (np.random.uniform(size=(L,C)) > 0.2) * 1\n",
    "maze[0,0]=1\n",
    "maze[-1,-1]=1\n",
    "plt.imshow(maze)\n",
    "plt.show()"
   ]
  },
  {
   "cell_type": "code",
   "execution_count": 3,
   "metadata": {},
   "outputs": [],
   "source": [
    "traffictime = np.zeros((L,C,24))\n",
    "np.random.seed(19)\n",
    "Distance = 1\n",
    "for i in range(L):\n",
    "    for j in range(C):\n",
    "        for k in range(24):\n",
    "            if maze[i][j]==1:\n",
    "                if ((k>=0) & (k<7)):\n",
    "                    traffictime[i][j][k] = Distance/np.random.uniform(50,80)\n",
    "                elif ((k>=7) & (k<10)):\n",
    "                    prob = np.random.uniform(0,1)\n",
    "                    if prob <= 0.65:\n",
    "                        traffictime[i][j][k] = Distance/np.random.uniform(0.01,0.5)\n",
    "                    elif (prob > 0.65) and (prob <= 1) :\n",
    "                        traffictime[i][j][k] = Distance/np.random.uniform(80,100)\n",
    "                    else:\n",
    "                        traffictime[i][j][k] = Distance/np.random.uniform(30,60)\n",
    "                elif ((k>=10) & (k<16)):\n",
    "                    traffictime[i][j][k] = Distance/np.random.uniform(20,60)\n",
    "                elif ((k>=16) & (k<21)):\n",
    "                    prob = np.random.uniform(0,1)\n",
    "                    if prob <= 0.65:\n",
    "                        traffictime[i][j][k] = Distance/np.random.uniform(0.01,0.5)\n",
    "                    elif (prob > 0.65) and (prob <= 0.1) :\n",
    "                        traffictime[i][j][k] = Distance/np.random.uniform(80,100)\n",
    "                    else:\n",
    "                        traffictime[i][j][k] = Distance/np.random.uniform(80,100)\n",
    "                elif ((k>=21) & (k<24)):\n",
    "                    traffictime[i][j][k] = Distance/np.random.uniform(30,60)"
   ]
  },
  {
   "cell_type": "code",
   "execution_count": 4,
   "metadata": {},
   "outputs": [],
   "source": [
    "def MinArray(arr,k,L,C):\n",
    "    minvalue = 100000\n",
    "    for i in range(L):\n",
    "        for j in range(C):\n",
    "            if (minvalue > arr[i][j]) and (arr[i][j] > k) :\n",
    "                minvalue = arr[i][j]\n",
    "    if minvalue != 100000:\n",
    "        return minvalue\n",
    "    else:\n",
    "        return k"
   ]
  },
  {
   "cell_type": "code",
   "execution_count": 5,
   "metadata": {},
   "outputs": [
    {
     "name": "stdout",
     "output_type": "stream",
     "text": [
      "[[ 7.01003464  7.02239812 20.543867   ... 13.37563944 13.40775456\n",
      "   0.        ]\n",
      " [ 7.0203701  10.31335874 10.34274368 ... 13.34802848  0.\n",
      "   0.        ]\n",
      " [ 7.03228172  7.04284363 10.87370504 ... 13.33597614 13.37966462\n",
      "   0.        ]\n",
      " ...\n",
      " [13.15549958  0.         13.11119739 ... 14.8194447   0.\n",
      "  14.88009682]\n",
      " [13.17658599 13.16282788 13.14537867 ... 14.81399323 14.83302787\n",
      "  14.8536494 ]\n",
      " [ 0.         13.19550844 13.161088   ... 14.82115041  0.\n",
      "  14.89468471]]\n"
     ]
    }
   ],
   "source": [
    "starttime = 7\n",
    "begx =0\n",
    "begy =0\n",
    "endx =-1\n",
    "endy =-1\n",
    "Ending = np.zeros((L,C))\n",
    "Starting = np.zeros((L,C))\n",
    "Ending[begx][begy] = starttime + traffictime[begx][begy][int(starttime)]\n",
    "time = Ending[begx][begy]\n",
    "Starting[begx][begy]=starttime\n",
    "iteratorstep =0\n",
    "######################short distance from one point to another############################\n",
    "while Ending[endx,endy]==0: \n",
    "    if iteratorstep==L*C+1:\n",
    "        print('WARNING: There is no road available to destination')\n",
    "        break\n",
    "    for i in range(L):\n",
    "        for j in range(C):\n",
    "            if Ending[i,j]==time:\n",
    "                if j<C-1:\n",
    "                    if maze[i,j+1]==1 or maze[i,j+1]==3:\n",
    "                        if Ending[i,j+1]==0:\n",
    "                            Ending[i,j+1]=Ending[i][j]+ traffictime[i][j+1][int(Ending[i][j])%24]\n",
    "                            Starting[i][j+1]= Ending[i][j]\n",
    "                if j>0:\n",
    "                    if maze[i,j-1]==1 or maze[i,j-1]==3:\n",
    "                        if Ending[i,j-1]==0:\n",
    "                            Ending[i,j-1]=Ending[i][j]+ traffictime[i][j-1][int(Ending[i][j])%24]\n",
    "                            Starting[i][j-1]= Ending[i][j]\n",
    "                if i <L-1:        \n",
    "                    if maze[i+1,j]==1 or maze[i+1,j]==3 :\n",
    "                        if Ending[i+1,j]==0:\n",
    "                            Ending[i+1,j]=Ending[i][j]+ traffictime[i+1][j][int(Ending[i][j])%24]\n",
    "                            Starting[i+1][j]= Ending[i][j]\n",
    "                if i>0:\n",
    "                    if maze[i-1,j]==1 or maze[i-1,j]==3 :\n",
    "                        if Ending[i-1,j]==0:\n",
    "                            Ending[i-1,j]=Ending[i][j]+ traffictime[i-1][j][int(Ending[i][j])%24]\n",
    "                            Starting[i-1][j]= Ending[i][j]\n",
    "    time = MinArray(Ending,time,L,C)\n",
    "    iteratorstep=iteratorstep+1\n",
    "print(Ending)"
   ]
  },
  {
   "cell_type": "code",
   "execution_count": 6,
   "metadata": {},
   "outputs": [
    {
     "data": {
      "image/png": "[encoded data removed]",
      "text/plain": [
       "<Figure size 432x288 with 1 Axes>"
      ]
     },
     "metadata": {
      "needs_background": "light"
     },
     "output_type": "display_data"
    }
   ],
   "source": [
    "Direction = np.zeros((L,C))\n",
    "iteratorstepprint = 0\n",
    "Direction[endx,endy] = -1\n",
    "timepassed = Ending[endx][endy]\n",
    "\n",
    "while Direction[begx,begy]==0: \n",
    "    if iteratorstepprint==L*C+1:\n",
    "        print('WARNING: There is no road available to destination')\n",
    "        break\n",
    "    for i in range(L):\n",
    "        for j in range(C):\n",
    "            if Ending[i,j]==timepassed:\n",
    "                if j<C-1:\n",
    "                    if (Ending[i,j+1]==Starting[i][j]) and Direction[i][j+1]==0 :\n",
    "                        Direction[i][j+1] = -1\n",
    "                        timepassed = Ending[i,j+1] \n",
    "                if j>0:\n",
    "                    if (Ending[i,j-1]==Starting[i][j]) and Direction[i][j-1]==0 :\n",
    "                        Direction[i][j-1] = -1\n",
    "                        timepassed = Ending[i,j-1] \n",
    "                if i <L-1:        \n",
    "                    if (Ending[i+1,j]==Starting[i][j]) and Direction[i+1][j]==0 :\n",
    "                        Direction[i+1][j] = -1\n",
    "                        timepassed = Ending[i+1,j]\n",
    "                if i>0:\n",
    "                    if (Ending[i-1,j]==Starting[i][j]) and Direction[i-1][j]==0 :\n",
    "                        Direction[i-1][j] = -1\n",
    "                        timepassed = Ending[i-1,j]\n",
    "    iteratorstep=iteratorstep+1\n",
    "plt.imshow(Direction)\n",
    "plt.show()"
   ]
  },
  {
   "cell_type": "code",
   "execution_count": 7,
   "metadata": {},
   "outputs": [
    {
     "data": {
      "image/png": "[encoded data removed]",
      "text/plain": [
       "<Figure size 432x288 with 1 Axes>"
      ]
     },
     "metadata": {
      "needs_background": "light"
     },
     "output_type": "display_data"
    }
   ],
   "source": [
    "Traffic = np.zeros((L,C))\n",
    "for i in range(L):\n",
    "        for j in range(C):\n",
    "            if Direction[i,j]==-1:\n",
    "                if (Ending[i][j] - Starting[i][j]) >= Distance/20:\n",
    "                    Traffic[i][j]=3\n",
    "                elif ((Ending[i][j] - Starting[i][j]) >= Distance/40) and ((Ending[i][j] - Starting[i][j]) < Distance/20):\n",
    "                    Traffic[i][j]=2\n",
    "                else:\n",
    "                    Traffic[i][j]=1\n",
    "plt.imshow(Traffic)\n",
    "plt.show()"
   ]
  }
 ],
 "metadata": {
  "kernelspec": {
   "display_name": "Python 3",
   "language": "python",
   "name": "python3"
  },
  "language_info": {
   "codemirror_mode": {
    "name": "ipython",
    "version": 3
   },
   "file_extension": ".py",
   "mimetype": "text/x-python",
   "name": "python",
   "nbconvert_exporter": "python",
   "pygments_lexer": "ipython3",
   "version": "3.7.4"
  }
 },
 "nbformat": 4,
 "nbformat_minor": 2
}
